{
  "nbformat": 4,
  "nbformat_minor": 0,
  "metadata": {
    "colab": {
      "provenance": [],
      "authorship_tag": "ABX9TyMshPAqNppU9TbLhxV5OKAJ",
      "include_colab_link": true
    },
    "kernelspec": {
      "name": "python3",
      "display_name": "Python 3"
    },
    "language_info": {
      "name": "python"
    }
  },
  "cells": [
    {
      "cell_type": "markdown",
      "metadata": {
        "id": "view-in-github",
        "colab_type": "text"
      },
      "source": [
        "<a href=\"https://colab.research.google.com/github/thientruc1691997/UserManagement/blob/master/simpleai.ipynb\" target=\"_parent\"><img src=\"https://colab.research.google.com/assets/colab-badge.svg\" alt=\"Open In Colab\"/></a>"
      ]
    },
    {
      "cell_type": "code",
      "execution_count": 10,
      "metadata": {
        "id": "2YLdq4KJiyvk"
      },
      "outputs": [],
      "source": [
        "\n",
        "from simpleai.search import SearchProblem,astar\n",
        "GOAL ='HELLO WORLD'\n",
        "class HelloProblem(SearchProblem):\n",
        "    def actions(self,state):\n",
        "      if len(state) < len(GOAL):\n",
        "        return list(' ABCDEFGHIJKMNOPQRSTUVWXYZ')\n",
        "      else:\n",
        "        return []\n",
        "    def result(self,state,action):\n",
        "      return state + action\n",
        "    def is_goal(self,state):\n",
        "      return state==GOAL\n",
        "    def heuristic(self,state):\n",
        "      wrong=sum([1 if state[i] != GOAL[i] else 0\n",
        "                 for i in range(len(state))])\n",
        "      missing= len(GOAL) - len(state)\n",
        "      return wrong + missing\n",
        "\n",
        "      problem = HelloProblem(initial_state='')\n",
        "      result = astar(problem)"
      ]
    }
  ]
}